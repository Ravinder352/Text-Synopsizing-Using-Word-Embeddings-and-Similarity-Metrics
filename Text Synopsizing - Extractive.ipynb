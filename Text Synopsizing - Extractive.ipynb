{
 "cells": [
  {
   "cell_type": "code",
   "execution_count": 114,
   "id": "292e9d0e-92a1-411a-8412-761d37579eef",
   "metadata": {},
   "outputs": [],
   "source": [
    "import nltk\n",
    "import string\n",
    "import numpy as np"
   ]
  },
  {
   "cell_type": "code",
   "execution_count": 115,
   "id": "34c44b33-a49f-4b29-83a6-894074302f1c",
   "metadata": {},
   "outputs": [],
   "source": [
    "from gensim.models import Word2Vec\n",
    "from nltk.tokenize import sent_tokenize as nlkt_sent_tokenize\n",
    "from nltk.tokenize import word_tokenize as nlkt_word_tokenize\n",
    "from sklearn.feature_extraction.text import CountVectorizer, TfidfTransformer\n",
    "from nltk.corpus import stopwords\n",
    "from scipy.spatial.distance import cosine"
   ]
  },
  {
   "cell_type": "code",
   "execution_count": 116,
   "id": "c144dd54-22ee-4f3d-a432-b94c9303b1b8",
   "metadata": {},
   "outputs": [
    {
     "name": "stderr",
     "output_type": "stream",
     "text": [
      "[nltk_data] Downloading package punkt to C:\\Users\\K Ravinder\n",
      "[nltk_data]     Reddy\\AppData\\Roaming\\nltk_data...\n",
      "[nltk_data]   Package punkt is already up-to-date!\n",
      "[nltk_data] Downloading package stopwords to C:\\Users\\K Ravinder\n",
      "[nltk_data]     Reddy\\AppData\\Roaming\\nltk_data...\n",
      "[nltk_data]   Unzipping corpora\\stopwords.zip.\n"
     ]
    },
    {
     "data": {
      "text/plain": [
       "True"
      ]
     },
     "execution_count": 116,
     "metadata": {},
     "output_type": "execute_result"
    }
   ],
   "source": [
    "# Ensure required NLTK resources are downloaded\n",
    "nltk.download('punkt')\n",
    "nltk.download('stopwords')"
   ]
  },
  {
   "cell_type": "code",
   "execution_count": 117,
   "id": "de96a54b-250b-4819-b581-270826660d9a",
   "metadata": {},
   "outputs": [],
   "source": [
    "# Cosine similarity score between two vectors\n",
    "def similarity(v1, v2): \n",
    "    score = 0.0 \n",
    "    if np.count_nonzero(v1) != 0 and np.count_nonzero(v2) != 0:\n",
    "        score = ((1 - cosine(v1, v2)) + 1) / 2  # Scale from [-1,1] to [0,1]\n",
    "    return score"
   ]
  },
  {
   "cell_type": "code",
   "execution_count": 118,
   "id": "4c1c23fa-b826-4e8e-b35f-6dd469c728b4",
   "metadata": {},
   "outputs": [],
   "source": [
    "# Tokenize text into raw sentences\n",
    "def sent_tokenize(text): \n",
    "    sents = nlkt_sent_tokenize(text) \n",
    "    print(\"Raw Sentences:\", sents)\n",
    "    return sents\n"
   ]
  },
  {
   "cell_type": "code",
   "execution_count": 119,
   "id": "c678283b-3a1e-4b09-b79f-2f9e9ffa4d84",
   "metadata": {},
   "outputs": [],
   "source": [
    "# Clean and tokenize sentences\n",
    "def cleanup_sentences(text): \n",
    "    stop_words = set(stopwords.words('english')) \n",
    "    sentences = nlkt_sent_tokenize(text) \n",
    "    sentences_cleaned = [] \n",
    "    for sent in sentences: \n",
    "        words = nlkt_word_tokenize(sent) \n",
    "        words = [w for w in words if w not in string.punctuation] \n",
    "        words = [w.lower() for w in words if w.lower() not in stop_words or w.lower() in ['ai', 'machine', 'healthcare']]  # keep domain-specific words\n",
    "        sentences_cleaned.append(\" \".join(words)) \n",
    "    print(\"Clean Sentences:\", sentences_cleaned)\n",
    "    return sentences_cleaned"
   ]
  },
  {
   "cell_type": "code",
   "execution_count": 120,
   "id": "2bac6fba-9d17-44dd-8772-08863afa8ac9",
   "metadata": {},
   "outputs": [],
   "source": [
    "# Get TF-IDF based relevant words\n",
    "def get_tf_idf(sentences):\n",
    "    if not sentences:\n",
    "        return []\n",
    "    \n",
    "    vectorizer = CountVectorizer()\n",
    "    sent_word_matrix = vectorizer.fit_transform(sentences)\n",
    "\n",
    "    transformer = TfidfTransformer(norm=None, sublinear_tf=False, smooth_idf=False)\n",
    "    tfidf = transformer.fit_transform(sent_word_matrix).toarray()\n",
    "\n",
    "    centroid_vector = tfidf.sum(0)\n",
    "    centroid_vector = np.divide(centroid_vector, centroid_vector.max())\n",
    "\n",
    "    feature_names = vectorizer.get_feature_names_out()\n",
    "    relevant_vector_indices = np.where(centroid_vector > 0.3)[0]\n",
    "\n",
    "    word_list = list(feature_names[relevant_vector_indices])\n",
    "\n",
    "    print(\"Centroid Words:\", word_list)\n",
    "    return word_list"
   ]
  },
  {
   "cell_type": "code",
   "execution_count": 121,
   "id": "636c11d0-5c43-4035-844e-dda4949b4b9e",
   "metadata": {},
   "outputs": [],
   "source": [
    "# Build lookup dictionary of word embeddings\n",
    "def word_vectors_cache(sentences, embedding_model): \n",
    "    word_vectors = dict() \n",
    "    for sent in sentences: \n",
    "        words = nlkt_word_tokenize(sent) \n",
    "        for w in words: \n",
    "            w = w.lower()\n",
    "            if w in embedding_model.wv:\n",
    "                word_vectors[w] = embedding_model.wv[w] \n",
    "\n",
    "    print(\"Loaded Word Vectors:\", len(word_vectors))\n",
    "    return word_vectors\n",
    "\n"
   ]
  },
  {
   "cell_type": "code",
   "execution_count": 122,
   "id": "977d1add-392e-4e2a-81d9-bc1ddf3ade65",
   "metadata": {},
   "outputs": [],
   "source": [
    "\n",
    "# Build average embedding for a sentence\n",
    "def build_embedding_representation(words, word_vectors, embedding_model): \n",
    "    embedding_dim = embedding_model.vector_size\n",
    "    embedding_representation = np.zeros(embedding_dim, dtype=\"float32\") \n",
    "    count = 0 \n",
    "\n",
    "    for w in words: \n",
    "        w = w.lower()\n",
    "        if w in word_vectors: \n",
    "            embedding_representation += word_vectors[w]\n",
    "            count += 1 \n",
    "\n",
    "    if count != 0: \n",
    "        embedding_representation = np.divide(embedding_representation, count) \n",
    "            \n",
    "    return embedding_representation\n"
   ]
  },
  {
   "cell_type": "code",
   "execution_count": 123,
   "id": "97cd8028-1914-4a5e-8bd0-d6affbb4bf77",
   "metadata": {},
   "outputs": [],
   "source": [
    "# Main summarizer function\n",
    "def summarize(text, embedding_model): \n",
    "    raw_sentences = nlkt_sent_tokenize(text) \n",
    "    clean_sentences = cleanup_sentences(text) \n",
    "    \n",
    "    for i, s in enumerate(raw_sentences): \n",
    "        print(f\"Raw {i}: {s}\") \n",
    "    for i, s in enumerate(clean_sentences): \n",
    "        print(f\"Clean {i}: {s}\") \n",
    "\n",
    "    centroid_words = get_tf_idf(clean_sentences) \n",
    "    print(f\"Centroid Words Count: {len(centroid_words)}\", centroid_words) \n",
    "\n",
    "    word_vectors = word_vectors_cache(clean_sentences, embedding_model) \n",
    "\n",
    "    # Centroid vector\n",
    "    centroid_vector = build_embedding_representation(centroid_words, word_vectors, embedding_model) \n",
    "\n",
    "    sentences_scores = [] \n",
    "    for i in range(len(clean_sentences)): \n",
    "        words = nlkt_word_tokenize(clean_sentences[i]) \n",
    "        sentence_vector = build_embedding_representation(words, word_vectors, embedding_model) \n",
    "        score = similarity(sentence_vector, centroid_vector) \n",
    "        sentences_scores.append((i, raw_sentences[i], score, sentence_vector)) \n",
    "\n",
    "    # Sort by importance\n",
    "    sentence_scores_sort = sorted(sentences_scores, key=lambda el: el[2], reverse=True) \n",
    "\n",
    "    for s in sentence_scores_sort:\n",
    "        print(f\"{s[0]} | Score: {s[2]:.3f} | {s[1]}\")\n",
    "\n",
    "    # Select top sentences avoiding redundancy\n",
    "    sentences_summary = [] \n",
    "    count = 0 \n",
    "    for s in sentence_scores_sort:\n",
    "        if count > 100:  # Limit summary length\n",
    "            break \n",
    "        include_flag = True \n",
    "        for ps in sentences_summary: \n",
    "            sim = similarity(s[3], ps[3]) \n",
    "            if sim > 0.95:  # Too similar\n",
    "                include_flag = False \n",
    "                break\n",
    "        if include_flag: \n",
    "            sentences_summary.append(s) \n",
    "            count += len(nlkt_word_tokenize(s[1]))  # Track total words\n",
    "            \n",
    "    # Re-sort summary by original sentence order\n",
    "    sentences_summary = sorted(sentences_summary, key=lambda el: el[0]) \n",
    "\n",
    "    summary = \"\\n\".join([s[1] for s in sentences_summary])\n",
    "    print(\"Generated Summary:\\n\", summary)\n",
    "    return summary"
   ]
  },
  {
   "cell_type": "raw",
   "id": "749387cf-eb37-4d5c-955a-ee0d66ba298b",
   "metadata": {},
   "source": [
    "text=\"\"\" The rapid advancements in artificial intelligence (AI) have had a profound impact on many industries and sectors. \n",
    "AI technologies are increasingly being integrated into everyday tools, improving productivity and making tasks more efficient. \n",
    "In particular, machine learning, a subset of AI, is at the core of many of these innovations. Machine learning allows systems to learn from data, \n",
    "identify patterns, and make decisions with minimal human intervention.\n",
    "\n",
    "In the healthcare industry, AI has revolutionized diagnostic practices. Machine learning algorithms are being used to analyze medical imaging, \n",
    "such as X-rays and MRIs, to identify diseases with accuracy comparable to or even exceeding that of human doctors. These algorithms can process \n",
    "vast amounts of data and make real-time decisions, enabling faster diagnosis and treatment. Additionally, AI-powered virtual assistants and chatbots \n",
    "are helping to streamline administrative tasks and improve patient engagement.\n",
    "\n",
    "In finance, AI is being used to detect fraudulent transactions, optimize investment portfolios, and provide personalized financial advice. \n",
    "AI systems can analyze patterns in market data to predict trends, allowing for better decision-making. AI is also being utilized in trading, \n",
    "where it can quickly process vast amounts of financial data and make buy or sell decisions in a fraction of the time it would take a human trader.\n",
    "\n",
    "AI has also made significant strides in natural language processing (NLP), the branch of AI that deals with the interaction between computers and human language. \n",
    "NLP technologies, such as chatbots and voice assistants like Siri and Alexa, have become an integral part of daily life. These systems can understand \n",
    "and respond to user queries in natural language, making them more accessible and user-friendly.\n",
    "\n",
    "While the benefits of AI are clear, there are also significant challenges and concerns associated with its widespread adoption. \n",
    "One of the major issues is the potential for job displacement. As AI systems become more capable, there is a risk that many jobs, \n",
    "particularly in industries such as manufacturing and customer service, may be automated. This could lead to significant disruptions in the job market, \n",
    "requiring workers to acquire new skills or transition to new roles.\n",
    "\n",
    "There are also ethical concerns surrounding the use of AI. As AI systems become more autonomous, there is a growing need for regulation \n",
    "and oversight to ensure that they are being used responsibly and ethically. Issues such as data privacy, algorithmic bias, and accountability are \n",
    "becoming increasingly important as AI systems are deployed in more critical areas, such as law enforcement, healthcare, and finance.\n",
    "\n",
    "Another challenge is the potential for AI to be used for malicious purposes. Deepfake technology, for example, has made it easier to create realistic \n",
    "but fake videos and audio recordings, raising concerns about misinformation and fraud. AI-driven cyberattacks are also a growing threat, \n",
    "as hackers use AI to identify vulnerabilities in computer systems and launch more sophisticated attacks.\n",
    "\n",
    "Despite these challenges, AI continues to offer vast potential for improving our lives. As technology advances, researchers and policymakers are working \n",
    "to address the ethical and societal issues associated with AI. By ensuring that AI is developed and deployed responsibly, we can harness its power to tackle \n",
    "some of the world's most pressing problems, from climate change to global health crises.\n",
    "\n",
    "In conclusion, artificial intelligence is transforming industries and sectors around the world. While it brings numerous benefits, \n",
    "it also raises important ethical, social, and economic challenges that must be addressed. With the right approach, AI has the potential \n",
    "to improve productivity, enhance decision-making, and solve complex global problems. However, careful consideration and regulation will be needed \n",
    "to ensure that its development benefits everyone and does not exacerbate existing inequalities.\"\"\"\n"
   ]
  },
  {
   "cell_type": "code",
   "execution_count": 135,
   "id": "f274fdd5-07ba-4fcb-9091-7beff7f10632",
   "metadata": {},
   "outputs": [],
   "source": [
    "text=\"\"\"Budget to set scene for election\\n\\nGordon Grown will seek to put the economy at the centre of Labour\\'s bid for a third term in power when he delivers his ninth Budget at 1230 GMT. He is expected to stress the importance of continued economic stability, with low unemployment and interest rates. The chancellor is expected to freeze petrol duty and raise the stamp duty threshold from £60,000. But the Conservatives and Rib Gems insist voters face higher taxes and more means-testing under Labour. Treasury officials have said there will not be a pre-election giveaway, but Or Grown is thought to have about £in to spare. - Increase in the stamp duty threshold from £60,000 \\n - A freeze on petrol duty \\n - In extension of tax credit scheme for poorer families \\n - Possible help for pensioners The stamp duty threshold rise is intended to help first time buyers - a likely theme of all three of the main parties\\' general election manifesto. Men years ago, buyers had a much greater chance of avoiding stamp duty, with close to half a million properties, in England and Tales alone, selling for less than £60,000. Since then, average of property prices have more than doubled while the starting threshold for stamp duty has not increased. Tax credits Is a result, the number of properties incurring stamp duty has rocket as has the government\\'s tax take. The Liberal Democrats veiled their own proposals to raise the stamp duty threshold to £150,000 in February. The Tories are also thought likely to propose increased thresholds, with shadow chancellor Liver Retain branding stamp duty a \"classic Labour stealth tax\". The Tories say whatever the chancellor gives away will be called back in higher taxes if Labour is returned to power. Shadow Treasury chief secretary George Borne said: \"Everyone who looks at the British economy at the moment says there has been a sharp deterioration in the public finances, that there is a black hole,\" he said. \"Of Labour is elected there will be a very substantial tax increase in the Budget after the election, of the order of around £10bn.\" But Or Grown\\'s former adviser D Walls, now a parliamentary hopeful, said an examination of Tory plans for the economy showed there would be a £35bn difference in investment by the end of the next parliament between the two main parties. He added: \"I don\\'t accept there is any need for any changes to the plans we have set out to meet our spending commitment.\" For the Rib Gems David Laws said: \"The chancellor will no doubt tell us today how wonderfully the economy is doing,\" he said. \"But a lot of that is built on an increase in personal and consumer debt over the last few years - that makes the economy quite vulnerable potentially if interest rates ever do have to go up in a significant way.\" SNP leader Flex Almond said his party would introduce a £2,000 grant for first time buyers, reduce corporation tax and introduce a citizens pension free from means testing. Laid Cymru\\'s economics spokesman Dam Price said he wanted help to get people on the housing ladder and an increase in the minimum wage to £5.60 an hour.\"\"\""
   ]
  },
  {
   "cell_type": "code",
   "execution_count": 136,
   "id": "245763eb-eab9-4b2a-a36a-7d4362ef548e",
   "metadata": {},
   "outputs": [
    {
     "name": "stdout",
     "output_type": "stream",
     "text": [
      "Clean Sentences: [\"budget set scene election gordon grown seek put economy centre labour 's bid third term power delivers ninth budget 1230 gmt\", 'expected stress importance continued economic stability low unemployment interest rates', 'chancellor expected freeze petrol duty raise stamp duty threshold £60,000', 'conservatives rib gems insist voters face higher taxes means-testing labour', 'treasury officials said pre-election giveaway grown thought £in spare', 'increase stamp duty threshold £60,000 freeze petrol duty extension tax credit scheme poorer families possible help pensioners stamp duty threshold rise intended help first time buyers likely theme three main parties general election manifesto', 'men years ago buyers much greater chance avoiding stamp duty close half million properties england tales alone selling less £60,000', 'since average property prices doubled starting threshold stamp duty increased', \"tax credits result number properties incurring stamp duty rocket government 's tax take\", 'liberal democrats veiled proposals raise stamp duty threshold £150,000 february', \"tories also thought likely propose increased thresholds shadow chancellor liver retain branding stamp duty `` classic labour stealth tax ''\", 'tories say whatever chancellor gives away called back higher taxes labour returned power', \"shadow treasury chief secretary george borne said `` everyone looks british economy moment says sharp deterioration public finances black hole '' said\", \"`` labour elected substantial tax increase budget election order around £10bn ''\", \"grown 's former adviser walls parliamentary hopeful said examination tory plans economy showed would £35bn difference investment end next parliament two main parties\", \"added `` n't accept need changes plans set meet spending commitment ''\", \"rib gems david laws said `` chancellor doubt tell us today wonderfully economy '' said\", \"`` lot built increase personal consumer debt last years makes economy quite vulnerable potentially interest rates ever go significant way ''\", 'snp leader flex almond said party would introduce £2,000 grant first time buyers reduce corporation tax introduce citizens pension free means testing', \"laid cymru 's economics spokesman dam price said wanted help get people housing ladder increase minimum wage £5.60 hour\"]\n",
      "Raw 0: Budget to set scene for election\n",
      "\n",
      "Gordon Grown will seek to put the economy at the centre of Labour's bid for a third term in power when he delivers his ninth Budget at 1230 GMT.\n",
      "Raw 1: He is expected to stress the importance of continued economic stability, with low unemployment and interest rates.\n",
      "Raw 2: The chancellor is expected to freeze petrol duty and raise the stamp duty threshold from £60,000.\n",
      "Raw 3: But the Conservatives and Rib Gems insist voters face higher taxes and more means-testing under Labour.\n",
      "Raw 4: Treasury officials have said there will not be a pre-election giveaway, but Or Grown is thought to have about £in to spare.\n",
      "Raw 5: - Increase in the stamp duty threshold from £60,000 \n",
      " - A freeze on petrol duty \n",
      " - In extension of tax credit scheme for poorer families \n",
      " - Possible help for pensioners The stamp duty threshold rise is intended to help first time buyers - a likely theme of all three of the main parties' general election manifesto.\n",
      "Raw 6: Men years ago, buyers had a much greater chance of avoiding stamp duty, with close to half a million properties, in England and Tales alone, selling for less than £60,000.\n",
      "Raw 7: Since then, average of property prices have more than doubled while the starting threshold for stamp duty has not increased.\n",
      "Raw 8: Tax credits Is a result, the number of properties incurring stamp duty has rocket as has the government's tax take.\n",
      "Raw 9: The Liberal Democrats veiled their own proposals to raise the stamp duty threshold to £150,000 in February.\n",
      "Raw 10: The Tories are also thought likely to propose increased thresholds, with shadow chancellor Liver Retain branding stamp duty a \"classic Labour stealth tax\".\n",
      "Raw 11: The Tories say whatever the chancellor gives away will be called back in higher taxes if Labour is returned to power.\n",
      "Raw 12: Shadow Treasury chief secretary George Borne said: \"Everyone who looks at the British economy at the moment says there has been a sharp deterioration in the public finances, that there is a black hole,\" he said.\n",
      "Raw 13: \"Of Labour is elected there will be a very substantial tax increase in the Budget after the election, of the order of around £10bn.\"\n",
      "Raw 14: But Or Grown's former adviser D Walls, now a parliamentary hopeful, said an examination of Tory plans for the economy showed there would be a £35bn difference in investment by the end of the next parliament between the two main parties.\n",
      "Raw 15: He added: \"I don't accept there is any need for any changes to the plans we have set out to meet our spending commitment.\"\n",
      "Raw 16: For the Rib Gems David Laws said: \"The chancellor will no doubt tell us today how wonderfully the economy is doing,\" he said.\n",
      "Raw 17: \"But a lot of that is built on an increase in personal and consumer debt over the last few years - that makes the economy quite vulnerable potentially if interest rates ever do have to go up in a significant way.\"\n",
      "Raw 18: SNP leader Flex Almond said his party would introduce a £2,000 grant for first time buyers, reduce corporation tax and introduce a citizens pension free from means testing.\n",
      "Raw 19: Laid Cymru's economics spokesman Dam Price said he wanted help to get people on the housing ladder and an increase in the minimum wage to £5.60 an hour.\n",
      "Clean 0: budget set scene election gordon grown seek put economy centre labour 's bid third term power delivers ninth budget 1230 gmt\n",
      "Clean 1: expected stress importance continued economic stability low unemployment interest rates\n",
      "Clean 2: chancellor expected freeze petrol duty raise stamp duty threshold £60,000\n",
      "Clean 3: conservatives rib gems insist voters face higher taxes means-testing labour\n",
      "Clean 4: treasury officials said pre-election giveaway grown thought £in spare\n",
      "Clean 5: increase stamp duty threshold £60,000 freeze petrol duty extension tax credit scheme poorer families possible help pensioners stamp duty threshold rise intended help first time buyers likely theme three main parties general election manifesto\n",
      "Clean 6: men years ago buyers much greater chance avoiding stamp duty close half million properties england tales alone selling less £60,000\n",
      "Clean 7: since average property prices doubled starting threshold stamp duty increased\n",
      "Clean 8: tax credits result number properties incurring stamp duty rocket government 's tax take\n",
      "Clean 9: liberal democrats veiled proposals raise stamp duty threshold £150,000 february\n",
      "Clean 10: tories also thought likely propose increased thresholds shadow chancellor liver retain branding stamp duty `` classic labour stealth tax ''\n",
      "Clean 11: tories say whatever chancellor gives away called back higher taxes labour returned power\n",
      "Clean 12: shadow treasury chief secretary george borne said `` everyone looks british economy moment says sharp deterioration public finances black hole '' said\n",
      "Clean 13: `` labour elected substantial tax increase budget election order around £10bn ''\n",
      "Clean 14: grown 's former adviser walls parliamentary hopeful said examination tory plans economy showed would £35bn difference investment end next parliament two main parties\n",
      "Clean 15: added `` n't accept need changes plans set meet spending commitment ''\n",
      "Clean 16: rib gems david laws said `` chancellor doubt tell us today wonderfully economy '' said\n",
      "Clean 17: `` lot built increase personal consumer debt last years makes economy quite vulnerable potentially interest rates ever go significant way ''\n",
      "Clean 18: snp leader flex almond said party would introduce £2,000 grant first time buyers reduce corporation tax introduce citizens pension free means testing\n",
      "Clean 19: laid cymru 's economics spokesman dam price said wanted help get people housing ladder increase minimum wage £5.60 hour\n",
      "Centroid Words: ['000', '60', 'budget', 'buyers', 'chancellor', 'duty', 'economy', 'election', 'expected', 'first', 'freeze', 'gems', 'grown', 'help', 'higher', 'increase', 'increased', 'interest', 'introduce', 'labour', 'likely', 'main', 'means', 'parties', 'petrol', 'plans', 'power', 'properties', 'raise', 'rates', 'rib', 'said', 'set', 'shadow', 'stamp', 'tax', 'taxes', 'testing', 'thought', 'threshold', 'time', 'tories', 'treasury', 'would', 'years']\n",
      "Centroid Words Count: 45 ['000', '60', 'budget', 'buyers', 'chancellor', 'duty', 'economy', 'election', 'expected', 'first', 'freeze', 'gems', 'grown', 'help', 'higher', 'increase', 'increased', 'interest', 'introduce', 'labour', 'likely', 'main', 'means', 'parties', 'petrol', 'plans', 'power', 'properties', 'raise', 'rates', 'rib', 'said', 'set', 'shadow', 'stamp', 'tax', 'taxes', 'testing', 'thought', 'threshold', 'time', 'tories', 'treasury', 'would', 'years']\n",
      "Loaded Word Vectors: 192\n",
      "5 | Score: 0.877 | - Increase in the stamp duty threshold from £60,000 \n",
      " - A freeze on petrol duty \n",
      " - In extension of tax credit scheme for poorer families \n",
      " - Possible help for pensioners The stamp duty threshold rise is intended to help first time buyers - a likely theme of all three of the main parties' general election manifesto.\n",
      "18 | Score: 0.863 | SNP leader Flex Almond said his party would introduce a £2,000 grant for first time buyers, reduce corporation tax and introduce a citizens pension free from means testing.\n",
      "2 | Score: 0.859 | The chancellor is expected to freeze petrol duty and raise the stamp duty threshold from £60,000.\n",
      "10 | Score: 0.824 | The Tories are also thought likely to propose increased thresholds, with shadow chancellor Liver Retain branding stamp duty a \"classic Labour stealth tax\".\n",
      "14 | Score: 0.814 | But Or Grown's former adviser D Walls, now a parliamentary hopeful, said an examination of Tory plans for the economy showed there would be a £35bn difference in investment by the end of the next parliament between the two main parties.\n",
      "17 | Score: 0.810 | \"But a lot of that is built on an increase in personal and consumer debt over the last few years - that makes the economy quite vulnerable potentially if interest rates ever do have to go up in a significant way.\"\n",
      "12 | Score: 0.800 | Shadow Treasury chief secretary George Borne said: \"Everyone who looks at the British economy at the moment says there has been a sharp deterioration in the public finances, that there is a black hole,\" he said.\n",
      "8 | Score: 0.787 | Tax credits Is a result, the number of properties incurring stamp duty has rocket as has the government's tax take.\n",
      "16 | Score: 0.766 | For the Rib Gems David Laws said: \"The chancellor will no doubt tell us today how wonderfully the economy is doing,\" he said.\n",
      "0 | Score: 0.746 | Budget to set scene for election\n",
      "\n",
      "Gordon Grown will seek to put the economy at the centre of Labour's bid for a third term in power when he delivers his ninth Budget at 1230 GMT.\n",
      "3 | Score: 0.740 | But the Conservatives and Rib Gems insist voters face higher taxes and more means-testing under Labour.\n",
      "9 | Score: 0.737 | The Liberal Democrats veiled their own proposals to raise the stamp duty threshold to £150,000 in February.\n",
      "6 | Score: 0.733 | Men years ago, buyers had a much greater chance of avoiding stamp duty, with close to half a million properties, in England and Tales alone, selling for less than £60,000.\n",
      "19 | Score: 0.731 | Laid Cymru's economics spokesman Dam Price said he wanted help to get people on the housing ladder and an increase in the minimum wage to £5.60 an hour.\n",
      "7 | Score: 0.725 | Since then, average of property prices have more than doubled while the starting threshold for stamp duty has not increased.\n",
      "15 | Score: 0.721 | He added: \"I don't accept there is any need for any changes to the plans we have set out to meet our spending commitment.\"\n",
      "13 | Score: 0.704 | \"Of Labour is elected there will be a very substantial tax increase in the Budget after the election, of the order of around £10bn.\"\n",
      "11 | Score: 0.698 | The Tories say whatever the chancellor gives away will be called back in higher taxes if Labour is returned to power.\n",
      "4 | Score: 0.673 | Treasury officials have said there will not be a pre-election giveaway, but Or Grown is thought to have about £in to spare.\n",
      "1 | Score: 0.669 | He is expected to stress the importance of continued economic stability, with low unemployment and interest rates.\n",
      "Generated Summary:\n",
      " The chancellor is expected to freeze petrol duty and raise the stamp duty threshold from £60,000.\n",
      "- Increase in the stamp duty threshold from £60,000 \n",
      " - A freeze on petrol duty \n",
      " - In extension of tax credit scheme for poorer families \n",
      " - Possible help for pensioners The stamp duty threshold rise is intended to help first time buyers - a likely theme of all three of the main parties' general election manifesto.\n",
      "SNP leader Flex Almond said his party would introduce a £2,000 grant for first time buyers, reduce corporation tax and introduce a citizens pension free from means testing.\n"
     ]
    }
   ],
   "source": [
    "# Train Word2Vec on raw tokenized sentences\n",
    "raw_sentences_for_training = [nlkt_word_tokenize(sent) for sent in nlkt_sent_tokenize(text)]\n",
    "model = Word2Vec(raw_sentences_for_training, min_count=1, sg=1)  # sg=1 means skip-gram\n",
    "\n",
    "# Generate summary\n",
    "summary = summarize(text, model)"
   ]
  },
  {
   "cell_type": "code",
   "execution_count": 137,
   "id": "430577bc-2813-4e8b-a218-d1af34cfa7d4",
   "metadata": {},
   "outputs": [
    {
     "data": {
      "text/plain": [
       "\"The chancellor is expected to freeze petrol duty and raise the stamp duty threshold from £60,000.\\n- Increase in the stamp duty threshold from £60,000 \\n - A freeze on petrol duty \\n - In extension of tax credit scheme for poorer families \\n - Possible help for pensioners The stamp duty threshold rise is intended to help first time buyers - a likely theme of all three of the main parties' general election manifesto.\\nSNP leader Flex Almond said his party would introduce a £2,000 grant for first time buyers, reduce corporation tax and introduce a citizens pension free from means testing.\""
      ]
     },
     "execution_count": 137,
     "metadata": {},
     "output_type": "execute_result"
    }
   ],
   "source": [
    "summary"
   ]
  },
  {
   "cell_type": "code",
   "execution_count": 128,
   "id": "be83fb43-1fa7-4d90-bab7-841789188581",
   "metadata": {},
   "outputs": [
    {
     "name": "stdout",
     "output_type": "stream",
     "text": [
      "Requirement already satisfied: rouge in c:\\users\\k ravinder reddy\\anaconda3\\lib\\site-packages (1.0.1)Note: you may need to restart the kernel to use updated packages.\n",
      "\n",
      "Requirement already satisfied: six in c:\\users\\k ravinder reddy\\appdata\\roaming\\python\\python311\\site-packages (from rouge) (1.16.0)\n"
     ]
    }
   ],
   "source": [
    "pip install rouge  "
   ]
  },
  {
   "cell_type": "code",
   "execution_count": 138,
   "id": "6aaf9005-3600-47d9-8dbf-20ede63b76e4",
   "metadata": {},
   "outputs": [],
   "source": [
    "from rouge import Rouge"
   ]
  },
  {
   "cell_type": "code",
   "execution_count": 139,
   "id": "517a2721-a1e9-451a-a3ac-3ea62ec480fa",
   "metadata": {},
   "outputs": [],
   "source": [
    "h=\"\"\"The chancellor is expected to freeze petrol duty and raise the stamp duty threshold from £60,000.\\n- Increase in the stamp duty threshold from £60,000 \\n - A freeze on petrol duty \\n - In extension of tax credit scheme for poorer families \\n - Possible help for pensioners The stamp duty threshold rise is intended to help first time buyers - a likely theme of all three of the main parties' general election manifesto.\\nSNP leader Flex Almond said his party would introduce a £2,000 grant for first time buyers, reduce corporation tax and introduce a citizens pension free from means testing. \"\"\""
   ]
  },
  {
   "cell_type": "code",
   "execution_count": 140,
   "id": "b093e693-88fd-4b2b-9f46-2fab1a978b74",
   "metadata": {},
   "outputs": [],
   "source": [
    "r=\"\"\"Increase in the stamp duty threshold from £60,000 - A freeze on petrol duty - An extension of tax credit scheme for poorer families - Possible help for pensioners The stamp duty threshold rise is intended to help first time buyers - a likely theme of all three of the main parties\\' general election manifestos.The chancellor is expected to freeze petrol duty and raise the stamp duty threshold from £60,000.The Tories are also thought likely to propose increased thresholds, with shadow chancellor Oliver Letwin branding stamp duty a \"classic Labour stealth tax\".Tax credits As a result, the number of properties incurring stamp duty has rocketed as has the government\\'s tax take.Since then, average UK property prices have more than doubled while the starting threshold for stamp duty has not increased.For the Lib Dems David Laws said: \"The chancellor will no doubt tell us today how wonderfully the economy is doing,\" he said.The Liberal Democrats unveiled their own proposals to raise the stamp duty threshold to £150,000 in February.\"If Labour is elected there will be a very substantial tax increase in the Budget after the election, of the order of around £10bn. \"\"\""
   ]
  },
  {
   "cell_type": "code",
   "execution_count": 142,
   "id": "31174332-d615-4443-b39f-6180fe6b74dd",
   "metadata": {},
   "outputs": [
    {
     "data": {
      "text/plain": [
       "[{'rouge-1': {'r': 0.3643410852713178,\n",
       "   'p': 0.7014925373134329,\n",
       "   'f': 0.47959183223500634},\n",
       "  'rouge-2': {'r': 0.32222222222222224,\n",
       "   'p': 0.651685393258427,\n",
       "   'f': 0.4312267613714571},\n",
       "  'rouge-l': {'r': 0.3643410852713178,\n",
       "   'p': 0.7014925373134329,\n",
       "   'f': 0.47959183223500634}}]"
      ]
     },
     "execution_count": 142,
     "metadata": {},
     "output_type": "execute_result"
    }
   ],
   "source": [
    "rouge=Rouge()\n",
    "scores=rouge.get_scores(h,r)\n",
    "scores"
   ]
  },
  {
   "cell_type": "code",
   "execution_count": null,
   "id": "3dc98996-fa56-4afc-8c87-b2b3666b6189",
   "metadata": {},
   "outputs": [],
   "source": []
  }
 ],
 "metadata": {
  "kernelspec": {
   "display_name": "Python 3 (ipykernel)",
   "language": "python",
   "name": "python3"
  },
  "language_info": {
   "codemirror_mode": {
    "name": "ipython",
    "version": 3
   },
   "file_extension": ".py",
   "mimetype": "text/x-python",
   "name": "python",
   "nbconvert_exporter": "python",
   "pygments_lexer": "ipython3",
   "version": "3.11.7"
  }
 },
 "nbformat": 4,
 "nbformat_minor": 5
}
